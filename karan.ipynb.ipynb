{
 "cells": [
  {
   "cell_type": "code",
   "execution_count": 1,
   "metadata": {},
   "outputs": [],
   "source": [
    "import pandas as pd\n",
    "import numpy as np\n",
    "import random\n",
    "from sklearn.feature_selection import SelectKBest\n",
    "from sklearn.feature_selection import chi2"
   ]
  },
  {
   "cell_type": "code",
   "execution_count": null,
   "metadata": {},
   "outputs": [],
   "source": []
  },
  {
   "cell_type": "code",
   "execution_count": 9,
   "metadata": {},
   "outputs": [],
   "source": [
    "col_name = ['Redness', 'Pain','Light sensitivity','Blurred vision','Dark floating spots']\n",
    "\n",
    "data = pd.read_csv('data.csv')\n",
    "\n",
    "x = data[col_name]\n",
    "y = np.array([random.randint(0,1) for i in range(0,569)])\n",
    "x['Output'] = y\n",
    "\n",
    "y = x.iloc[:, 5].values\n",
    "x = data.iloc[:, 0:5].values"
   ]
  },
  {
   "cell_type": "code",
   "execution_count": null,
   "metadata": {},
   "outputs": [],
   "source": []
  },
  {
   "cell_type": "code",
   "execution_count": 10,
   "metadata": {},
   "outputs": [],
   "source": [
    "from sklearn.model_selection import train_test_split\n",
    "\n",
    "x_train, x_test, y_train, y_test = train_test_split(x,y, test_size = 0.3, random_state = 1)"
   ]
  },
  {
   "cell_type": "code",
   "execution_count": 11,
   "metadata": {},
   "outputs": [],
   "source": [
    "from sklearn.tree import DecisionTreeClassifier\n",
    "\n",
    "decision = DecisionTreeClassifier(criterion = 'entropy', max_depth=3)\n",
    "decision = decision.fit(x_train,y_train)\n",
    "y1_pred = decision.predict(x_test)\n",
    "\n",
    "from sklearn.neighbors import KNeighborsClassifier\n",
    "\n",
    "classifier = KNeighborsClassifier(n_neighbors = 3, metric = 'minkowski', p = 2)\n",
    "classifier = classifier.fit(x_train, y_train)\n",
    "y2_pred = classifier.predict(x_test)"
   ]
  },
  {
   "cell_type": "code",
   "execution_count": 12,
   "metadata": {},
   "outputs": [
    {
     "name": "stdout",
     "output_type": "stream",
     "text": [
      "Decision Accuracy: 0.5087719298245614\n",
      "KNN Accuracy: 0.52046783625731\n"
     ]
    }
   ],
   "source": [
    "from sklearn import metrics\n",
    "\n",
    "print('Decision Accuracy: {}'.format(metrics.accuracy_score(y_test,y1_pred)))\n",
    "print('KNN Accuracy: {}'.format(metrics.accuracy_score(y_test,y2_pred)))"
   ]
  },
  {
   "cell_type": "code",
   "execution_count": 20,
   "metadata": {},
   "outputs": [
    {
     "name": "stdout",
     "output_type": "stream",
     "text": [
      "Enter Your Eye Redness:- 0.1\n",
      "Enter Your Eye Pain:- 0.2\n",
      "Enter Your Eye Light Sensitivity:- 0.3\n",
      "Enter Your Eye Blurred vision:- 0.1\n",
      "Enter Your Eye Dark floating spots:- 0.1\n",
      "You've eye disease.\n"
     ]
    }
   ],
   "source": [
    "Redness = float(input(\"Enter Your Eye Redness:- \"))\n",
    "Pain = float(input(\"Enter Your Eye Pain:- \"))\n",
    "Light_sensitivity = float(input(\"Enter Your Eye Light Sensitivity:- \"))\n",
    "Blurred_vision = float(input(\"Enter Your Eye Blurred vision:- \"))\n",
    "Dark_floating_spots = float(input(\"Enter Your Eye Dark floating spots:- \"))\n",
    "\n",
    "testing = pd.DataFrame({'Redness': [Redness],\n",
    "        'Pain': [Pain],\n",
    "        'Light sensitivity':[Light_sensitivity],\n",
    "        'Blurred vision':[1.0],\n",
    "        'Dark floating spots':[Dark_floating_spots]\n",
    "        })\n",
    "\n",
    "if(decision.predict(testing)[0] == 1):\n",
    "    print(\"You've eye disease.\")\n",
    "else:\n",
    "    print(\"You don't have eye disease.\")"
   ]
  },
  {
   "cell_type": "code",
   "execution_count": null,
   "metadata": {},
   "outputs": [],
   "source": []
  },
  {
   "cell_type": "code",
   "execution_count": null,
   "metadata": {},
   "outputs": [],
   "source": []
  }
 ],
 "metadata": {
  "kernelspec": {
   "display_name": "Python 3",
   "language": "python",
   "name": "python3"
  },
  "language_info": {
   "codemirror_mode": {
    "name": "ipython",
    "version": 3
   },
   "file_extension": ".py",
   "mimetype": "text/x-python",
   "name": "python",
   "nbconvert_exporter": "python",
   "pygments_lexer": "ipython3",
   "version": "3.7.3"
  }
 },
 "nbformat": 4,
 "nbformat_minor": 4
}
